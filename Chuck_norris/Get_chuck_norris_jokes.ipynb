{
 "cells": [
  {
   "cell_type": "code",
   "execution_count": 1,
   "id": "d378c054",
   "metadata": {},
   "outputs": [
    {
     "data": {
      "text/plain": [
       "'/Users/admin/PycharmProjects/Open_projects/Chuck_norris'"
      ]
     },
     "execution_count": 1,
     "metadata": {},
     "output_type": "execute_result"
    }
   ],
   "source": [
    "pwd"
   ]
  },
  {
   "cell_type": "code",
   "execution_count": 6,
   "id": "634acd91",
   "metadata": {},
   "outputs": [
    {
     "name": "stdout",
     "output_type": "stream",
     "text": [
      "done\n"
     ]
    }
   ],
   "source": [
    "import requests\n",
    "response_data=[]\n",
    "for i in range(1,5000):\n",
    "    url = f\"http://api.icndb.com/jokes/{i}\"\n",
    "    response = requests.get(url)\n",
    "    response.encoding = \"utf-8\"\n",
    "    data = response.json()\n",
    "    response_data.append(data)\n",
    "print(\"done\")"
   ]
  },
  {
   "cell_type": "code",
   "execution_count": 7,
   "id": "16108b02",
   "metadata": {},
   "outputs": [],
   "source": [
    "with open('ChuckNorrisJokes.csv','w') as f:\n",
    "    idx=1\n",
    "    f.write('ID,Joke' + '\\n')\n",
    "    for data in response_data:\n",
    "        joke_string = ''\n",
    "        if data['type'] == 'success' :\n",
    "            joke_string = str(idx) + ',' + data['value']['joke'] + '\\n'\n",
    "            idx += 1\n",
    "        else:\n",
    "            joke_string = str(idx) + ',' + '\\n'\n",
    "            idx += 1\n",
    "        f.write(joke_string)"
   ]
  },
  {
   "cell_type": "code",
   "execution_count": 4,
   "id": "4c506f11",
   "metadata": {},
   "outputs": [
    {
     "data": {
      "text/plain": [
       "'/Users/admin/PycharmProjects/Open_projects/Chuck_norris'"
      ]
     },
     "execution_count": 4,
     "metadata": {},
     "output_type": "execute_result"
    }
   ],
   "source": [
    "pwd"
   ]
  },
  {
   "cell_type": "code",
   "execution_count": 5,
   "id": "bbb15822",
   "metadata": {},
   "outputs": [
    {
     "name": "stdout",
     "output_type": "stream",
     "text": [
      "ChuckNorrisJokes.csv          Get_chuck_norris_jokes.ipynb\r\n"
     ]
    }
   ],
   "source": [
    "ls"
   ]
  },
  {
   "cell_type": "code",
   "execution_count": null,
   "id": "62ad940f",
   "metadata": {},
   "outputs": [],
   "source": []
  }
 ],
 "metadata": {
  "kernelspec": {
   "display_name": "Python 3 (ipykernel)",
   "language": "python",
   "name": "python3"
  },
  "language_info": {
   "codemirror_mode": {
    "name": "ipython",
    "version": 3
   },
   "file_extension": ".py",
   "mimetype": "text/x-python",
   "name": "python",
   "nbconvert_exporter": "python",
   "pygments_lexer": "ipython3",
   "version": "3.8.2"
  }
 },
 "nbformat": 4,
 "nbformat_minor": 5
}
